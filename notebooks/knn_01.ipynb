{
 "cells": [
  {
   "cell_type": "code",
   "execution_count": 3,
   "metadata": {},
   "outputs": [],
   "source": [
    "import numpy as np\n",
    "import pandas as pd\n",
    "\n",
    "import sys\n",
    "sys.path.append(\"/home/kal/Documents/codeprojects/Unsupervised_Learning\")\n",
    "\n",
    "from data.data import heights, weights, age, gender, samples, k_values"
   ]
  },
  {
   "cell_type": "code",
   "execution_count": null,
   "metadata": {},
   "outputs": [],
   "source": [
    "def cartesian_distance(sample, inputs):\n",
    "    diffs = sample - inputs\n",
    "    sum_pow = np.sum(np.power(diffs, 2), axis=1)\n",
    "    return np.power(sum_pow, 0.5)"
   ]
  },
  {
   "cell_type": "code",
   "execution_count": null,
   "metadata": {},
   "outputs": [],
   "source": [
    "\n",
    "def classify(k, sorted_labels):\n",
    "    k_neighbors = sorted_labels[:k]\n",
    "    men_occurencies = np.count_nonzero(k_neighbors == 'M')\n",
    "    women_occurencies = np.count_nonzero(k_neighbors == 'W')\n",
    "    return 'M' if men_occurencies > women_occurencies else 'W'\n"
   ]
  },
  {
   "cell_type": "code",
   "execution_count": null,
   "metadata": {},
   "outputs": [],
   "source": [
    "def KNN_classification(sample, k, df_dataset, drop_age):\n",
    "    if drop_age:\n",
    "        inputs = df_dataset.drop(['age', 'gender'], axis=1).values\n",
    "    else:\n",
    "        inputs = df_dataset.drop(['gender'], axis=1).values\n",
    "\n",
    "    labels = df_dataset[\"gender\"].values\n",
    "\n",
    "    # get the cartesian distance from each data point\n",
    "    cart_distance = cartesian_distance(sample, inputs)\n",
    "\n",
    "    # create a 2D array with the 1st column being the above distances and the second corresponding label\n",
    "    labeled_cart = np.vstack((cart_distance, labels))\n",
    "\n",
    "    # sort in an ascending manner the above 2D array based on the distances\n",
    "    sorted_cart = labeled_cart.T[labeled_cart.T[:, 0].argsort()]\n",
    "    sorted_labels = sorted_cart.T[1]\n",
    "\n",
    "    return classify(k, sorted_labels)\n"
   ]
  },
  {
   "cell_type": "code",
   "execution_count": null,
   "metadata": {},
   "outputs": [],
   "source": [
    "df_dataset = pd.DataFrame({'heights': heights, 'weights': weights, 'age': age, 'gender': gender})\n",
    "\n",
    "for sample in samples:\n",
    "    print(\"sample:{}\".format(sample))\n",
    "    for k in k_values:\n",
    "        print(\"\\tK:{}\".format(k))\n",
    "        prediction_1 = KNN_classification(sample, k, df_dataset, drop_age=False)\n",
    "        print(\"\\tPrediction is {} for k:{} number of neighbors\".format(prediction_1, k))\n",
    "        # prediction_2 = KNN_classification(sample[:2], k, df_dataset,\n",
    "        #                                   drop_age=True)  # assumption: gender is is the 3rd element of the sample\n",
    "        # print(\"\\tPrediction is {} for k:{} number of neighbors without using age feature\".format(prediction_2, k))\n",
    "        print()\n",
    "print()\n",
    "\n",
    "for k in k_values:\n",
    "    valid_predictions_all_features, valid_predictions_exclude_age = 0, 0\n",
    "\n",
    "    # test with leave-1-out training method\n",
    "    for index, test_sample in df_dataset.iterrows():\n",
    "        sample = test_sample.values[:3] # leave the target out\n",
    "        target = test_sample.values[3]\n",
    "        prediction = KNN_classification(sample, k, df_dataset.drop(index), drop_age=False)\n",
    "        valid_predictions_all_features += 1 if target == prediction else 0\n",
    "        # print(\"Prediction:{} - Target: {} for k: {} number of neighbors\".format(prediction_1, target, k))\n",
    "\n",
    "        prediction = KNN_classification(sample[:2], k, df_dataset.drop(index), drop_age=True) # assumption: gender is is the 3rd element of the sample\n",
    "        valid_predictions_exclude_age += 1 if target == prediction else 0\n",
    "\n",
    "        # print(\"Prediction: {} - Target: {} for k:{} number of neighbors without using age feature\".format(prediction_2, target, k))\n",
    "\n",
    "        # prediction = KNN_classification(sample[:2], k, df_dataset.drop(index),\n",
    "        #                                   drop_age=True)  # assumption: gender is is the 3rd element of the sample\n",
    "        # valid_predictions_all_features += 1 if target == prediction else 0\n",
    "    print(\"KNN Performance using k:{}\".format(k))\n",
    "    print(\"{}/{} correct predictions using all features\".format(valid_predictions_all_features, df_dataset.shape[0]))\n",
    "    print(\"{}/{} correct predictions excluding age\".format(valid_predictions_exclude_age, df_dataset.shape[0]))\n",
    "    print()"
   ]
  }
 ],
 "metadata": {
  "kernelspec": {
   "display_name": "Python 3 (ipykernel)",
   "language": "python",
   "name": "python3"
  }
 },
 "nbformat": 4,
 "nbformat_minor": 2
}
